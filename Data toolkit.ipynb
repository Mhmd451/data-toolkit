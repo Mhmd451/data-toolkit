{
 "cells": [
  {
   "cell_type": "code",
   "execution_count": null,
   "id": "0583c322-f658-4a21-81a2-f6dae1ab3662",
   "metadata": {},
   "outputs": [],
   "source": [
    "#Theoretical question\n",
    "\n",
    "\"\"\"\n",
    "#1.What is NumPy, and why is it widely used in Python?\n",
    "A.NumPy is the fundamental package for scientific computing in Python.\n",
    "  Performance and Efficiency.\n",
    "  Multi-dimensional Array Support\n",
    "  Simplified Syntax\n",
    "  Broadcasting.\n",
    "\n",
    "#2. How does broadcasting work in NumPy?\n",
    "A.The term broadcasting describes how NumPy treats arrays with different shapes during arithmetic operations. \n",
    "Subject to certain constraints, the smaller array is “broadcast” across the larger array so that they have compatible shapes.\n",
    "\n",
    "#3.What is a Pandas DataFrame?\n",
    "A.A Pandas DataFrame is a two-dimensional, labeled data structure in the Pandas library for Python. \n",
    "It is designed to handle tabular data, similar to a spreadsheet, a SQL table, or a dictionary of Series objects.\\\n",
    "\n",
    "#4.Explain the use of the groupby() method in Pandas?\n",
    "A.The groupby() method in Pandas is a powerful function used for splitting a DataFrame into groups based on\n",
    "one or more criteria, applying a function to each group independently, and then combining the results into a new DataFrame. \n",
    "This process is often referred to as \"split-apply-combine.\"\n",
    "\n",
    "#5. Why is Seaborn preferred for statistical visualizations\n",
    "A.Because plots are more attractive and there are more options of statistical plots.\n",
    "\n",
    "#6.What are the differences between NumPy arrays and Python lists?\n",
    "A.Python lists are versatile for general-purpose data storage and manipulation, \n",
    "while NumPy arrays are specifically designed and optimized for high-performance numerical computing,\n",
    "particularly with large, homogeneous datasets.\n",
    "\n",
    "#7. What is a heatmap, and when should it be used?\n",
    "A.A heatmap is a data visualization tool that uses color gradients to represent the magnitude or intensity of values in a dataset.\n",
    "It helps to easily spot patterns, correlations, outliers, and trends at a glance.\n",
    "--see a heatmap when you want to:\n",
    "Visualize Correlations\n",
    "In data science, to show how variables relate to each other using a correlation matrix.\n",
    "E.g., seaborn.heatmap(df.corr()) in Python.\n",
    "Detect Patterns Quickly\n",
    "Like which product sells the most in which month or region.\n",
    "Analyze User Behavior\n",
    "In UX/UI, heatmaps show where users click or scroll most on a webpage.\n",
    "Compare Values Across Dimensions\n",
    "Like population density by region, sales per quarter, etc.\n",
    "\n",
    "8.What does the term “vectorized operation” mean in NumPy?\n",
    "A.In NumPy, the term “vectorized operation” refers to performing operations\n",
    "on entire arrays (vectors, matrices, etc.) at once rather than using explicit loops.\n",
    "\n",
    "\n",
    "#9. How does Matplotlib differ from Plotly?\n",
    "A.| Feature            | **Matplotlib**                                                      | **Plotly**                                         |\n",
    "| ------------------ | ------------------------------------------------------------------- | -------------------------------------------------- |\n",
    "| **Type**           | 2D plotting library                                                 | Interactive plotting library (2D and 3D)           |\n",
    "| **Interactivity**  | Static by default (can be made interactive with `mplcursors`, etc.) | Fully interactive (hover, zoom, drag, tooltips)    |\n",
    "| **Ease of Use**    | More verbose and low-level                                          | High-level API with easier interactivity           |\n",
    "| **Customization**  | Extremely customizable                                              | Customizable, but less low-level than Matplotlib   |\n",
    "| **Output Formats** | PNG, PDF, SVG, etc.                                                 | HTML, PNG, SVG, WebGL                              |\n",
    "| **3D Plotting**    | Limited (via `mpl_toolkits.mplot3d`)                                | Strong 3D support (scatter, surface, etc.)         |\n",
    "| **Performance**    | Fast for static plots                                               | Slightly slower for large, interactive plots       |\n",
    "| **Learning Curve** | Steeper                                                             | Easier for basic plots, powerful for dashboards    |\n",
    "| **Use Cases**      | Academic papers, static plots for print                             | Web apps, dashboards, interactive data exploration |\n",
    "| **Integration**    | Works well in Jupyter and scripts                                   | Great in Jupyter and web (e.g., Dash framework)    |\n",
    "| **License**        | Open-source (Matplotlib License)                                    | Open-source (MIT), enterprise version available    |\n",
    "\n",
    "#10. What is the significance of hierarchical indexing in Pandas?\n",
    "A.Hierarchical indexing (also known as MultiIndexing) in Pandas allows you to have multiple (two or more) index levels on rows or columns of a DataFrame.\n",
    "It is one of the most powerful features in Pandas for working with high-dimensional data in a 2D tabular format.\n",
    "\n",
    "#11.What is the role of Seaborn’s pairplot() function?\n",
    "A.The **pairplot()** function in Seaborn is a powerful tool for exploring relationships between multiple variables in a dataset \n",
    "— especially useful for visualizing patterns,correlations, and distributions in multivariate data.\n",
    "\n",
    "#12. What is the purpose of the describe() function in Pandas?\n",
    "A.t gives you a quick statistical summary of your data, which is especially useful during Exploratory Data Analysis (EDA).\n",
    "| Statistic | Meaning                             |\n",
    "| --------- | ----------------------------------- |\n",
    "| `count`   | Number of non-null (non-NaN) values |\n",
    "| `mean`    | Average of the values               |\n",
    "| `std`     | Standard deviation (spread)         |\n",
    "| `min`     | Minimum value                       |\n",
    "| `25%`     | First quartile (Q1)                 |\n",
    "| `50%`     | Median (Q2)                         |\n",
    "| `75%`     | Third quartile (Q3)                 |\n",
    "| `max`     | Maximum value                       |\n",
    "\n",
    "#13.Why is handling missing data important in Pandas?\n",
    "A.Handling missing data is crucial in Pandas (and in data analysis in general) because missing values can distort your analysis,\n",
    "lead to incorrect conclusions, or cause errors in processing.\n",
    "\n",
    "#14.What are the benefits of using Plotly for data visualization?\n",
    "A.Using Plotly for data visualization offers several key benefits, especially in Python (with libraries like plotly.express and plotly.graph_objects). Here are the major advantages:\n",
    "1. Interactive Visualizations\n",
    "2. Beautiful and Publication-Ready\n",
    "Plotly produces aesthetically pleasing and customizable charts with minimal code. The visuals are suitable for presentations, reports, or websites.\n",
    "3. Supports a Wide Variety of Chart Types\n",
    "4. Integrates Well with Dash\n",
    "5. Cross-Language Support\n",
    "6. Easy to Use with Plotly Express--With plotly.express, you can create complex plots with minimal code, ideal for beginners and rapid development.\n",
    "7. Offline and Online Usage_Works in Jupyter Notebooks, standalone HTML, or web browsers.Can be used offline or hosted on Plotly Cloud for collaboration.\n",
    "8. Customization and Flexibility\n",
    "Plotly allows fine-grained control through plotly.graph_objects, so advanced users can deeply customize charts and layout.\n",
    "\n",
    "#15.How does NumPy handle multidimensional arrays?\n",
    "A.NumPy handles multidimensional arrays using its core data structure called the ndarray (n-dimensional array).\n",
    "\n",
    "#16.What is the role of Bokeh in data visualization?\n",
    "A.Bokeh is a powerful Python library used for interactive and web-ready data visualizations.\n",
    "Its main role is to allow developers and data scientists to create dynamic, browser-based visualizations\n",
    "that can be easily embedded into web applications or dashboards.\n",
    "\n",
    "#17. Explain the difference between apply() and map() in Pandas\n",
    "* map() – Element-wise Operation on Series\n",
    "Works only on a Series (not DataFrame).\n",
    "Applies a function element by element.\n",
    "Can take a function, dictionary, or Series for mapping.\n",
    "Use it when:\n",
    "You want to transform or map each value in a Series.\n",
    "*apply() – Row/Column-wise Operation\n",
    "Works on both Series and DataFrames.\n",
    "Can apply a function to each element (if Series) or to each row/column (if DataFrame).\n",
    "Much more flexible than map().\n",
    " Use it when:\n",
    "You want to apply a function across rows or columns in a DataFrame, or to a Series as a whole.\n",
    "\n",
    "#18.What are some advanced features of NumPy?\n",
    "A.Broadcasting\tAuto-align shapes for operations\n",
    "Vectorization\tFast, loop-free computation\n",
    "Advanced Indexing\tFancy and boolean indexing\n",
    "Memory Mapping\tWork with huge files efficiently\n",
    "Structured Arrays\tTabular-like data with types\n",
    "Masked Arrays\tIgnore missing/invalid values\n",
    "ufuncs and einsum\tHigh-performance numerical operations\n",
    "FFT & Linear Algebra\tScientific computing tools\n",
    "Random Sampling\tDistributions and reproducibility\n",
    "Views vs Copies\tEfficient memory usage\n",
    "Axis-Based Aggregation\n",
    "\n",
    "#19. How does Pandas simplify time series analysis?\n",
    "A.Pandas simplifies time series analysis by providing powerful, flexible, and intuitive tools for handling date/time data,\n",
    "making it a go-to library for financial, scientific, and sensor data.\n",
    "\n",
    "#20.What is the role of a pivot table in Pandas?\n",
    "A.In Pandas, a pivot table is a powerful tool used to summarize, analyze, and reorganize data — \n",
    "especially when working with large and structured datasets. It’s conceptually similar to Excel pivot tables and\n",
    "is especially useful for aggregating data and exploring relationships between variables.\n",
    "\n",
    "#21. Why is NumPy’s array slicing faster than Python’s list slicing?\n",
    "A.Because of following reasons.\n",
    "| Reason           | NumPy Arrays         | Python Lists    |\n",
    "| ---------------- | -------------------- | --------------- |\n",
    "| Memory Layout    | Contiguous (C-style) | Non-contiguous  |\n",
    "| Slicing Result   | View (no copy)       | Copy            |\n",
    "| Language Backend | C (fast)             | Python (slower) |\n",
    "| Data Type        | Homogeneous          | Heterogeneous   |\n",
    "| Performance      | Fast & efficient     | Slower          |\n",
    "\n",
    "#22. What are some common use cases for Seaborn?\n",
    "A.| Use Case                           | Function                                               | Purpose                                                      |\n",
    "| ---------------------------------- | ------------------------------------------------------ | ------------------------------------------------------------ |\n",
    "| **Distribution analysis**          | `sns.histplot()`, `sns.kdeplot()`                      | Understand how values are spread (histograms, KDEs)          |\n",
    "| **Relationship between variables** | `sns.scatterplot()`, `sns.lineplot()`, `sns.regplot()` | Explore trends and correlations                              |\n",
    "| **Regression modeling**            | `sns.lmplot()`                                         | Plot regression lines and confidence intervals               |\n",
    "| **Category comparisons**           | `sns.barplot()`, `sns.boxplot()`, `sns.violinplot()`   | Compare data across categories (with stats)                  |\n",
    "| **Multi-variable analysis**        | `sns.pairplot()`, `sns.heatmap()`                      | Visualize relationships in high-dimensional data             |\n",
    "| **Correlation analysis**           | `sns.heatmap(corr_matrix)`                             | Visualize correlation matrices (e.g., for feature selection) |\n",
    "| **Time series trends**             | `sns.lineplot()`                                       | Plot trends over time with uncertainty                       |\n",
    "| **Data grouping and aggregation**  | `sns.catplot()`                                        | Create grouped plots by hue/col/row parameters               |\n",
    "\n",
    "\"\"\""
   ]
  },
  {
   "cell_type": "code",
   "execution_count": 1,
   "id": "123a9347-8790-4b17-85d0-1127c5b26780",
   "metadata": {},
   "outputs": [
    {
     "name": "stdout",
     "output_type": "stream",
     "text": [
      "Sum of each row: [ 6 15 24]\n"
     ]
    }
   ],
   "source": [
    "#1. How do you create a 2D NumPy array and calculate the sum of each row?\n",
    "import numpy as np\n",
    "arr = np.array([[1, 2, 3],\n",
    "                [4, 5, 6],\n",
    "                [7, 8, 9]])\n",
    "row_sums = np.sum(arr, axis=1)\n",
    "print(\"Sum of each row:\", row_sums)"
   ]
  },
  {
   "cell_type": "code",
   "execution_count": 3,
   "id": "ffeb3ce3-5325-4791-a093-deda4851b905",
   "metadata": {},
   "outputs": [
    {
     "name": "stdout",
     "output_type": "stream",
     "text": [
      "Mean Salary: 65000.0\n"
     ]
    }
   ],
   "source": [
    "#2. Write a Pandas script to find the mean of a specific column in a DataFrame\n",
    "import pandas as pd\n",
    "data = {\n",
    "    'Name': ['Alice', 'Bob', 'Charlie', 'David'],\n",
    "    'Age': [25, 30, 35, 40],\n",
    "    'Salary': [50000, 60000, 70000, 80000]\n",
    "}\n",
    "df = pd.DataFrame(data)\n",
    "mean_salary = df['Salary'].mean()\n",
    "print(\"Mean Salary:\", mean_salary)\n"
   ]
  },
  {
   "cell_type": "code",
   "execution_count": 7,
   "id": "7832fd3a-a34b-49d5-8b9a-ab8ee6b41d75",
   "metadata": {},
   "outputs": [
    {
     "name": "stdout",
     "output_type": "stream",
     "text": [
      "Collecting matplotlib\n",
      "  Downloading matplotlib-3.10.3-cp313-cp313-win_amd64.whl.metadata (11 kB)\n",
      "Collecting contourpy>=1.0.1 (from matplotlib)\n",
      "  Downloading contourpy-1.3.2-cp313-cp313-win_amd64.whl.metadata (5.5 kB)\n",
      "Collecting cycler>=0.10 (from matplotlib)\n",
      "  Downloading cycler-0.12.1-py3-none-any.whl.metadata (3.8 kB)\n",
      "Collecting fonttools>=4.22.0 (from matplotlib)\n",
      "  Downloading fonttools-4.58.5-cp313-cp313-win_amd64.whl.metadata (109 kB)\n",
      "Collecting kiwisolver>=1.3.1 (from matplotlib)\n",
      "  Downloading kiwisolver-1.4.8-cp313-cp313-win_amd64.whl.metadata (6.3 kB)\n",
      "Requirement already satisfied: numpy>=1.23 in c:\\users\\hello\\appdata\\local\\programs\\python\\python313\\lib\\site-packages (from matplotlib) (2.2.3)\n",
      "Requirement already satisfied: packaging>=20.0 in c:\\users\\hello\\appdata\\local\\programs\\python\\python313\\lib\\site-packages (from matplotlib) (24.2)\n",
      "Collecting pillow>=8 (from matplotlib)\n",
      "  Downloading pillow-11.3.0-cp313-cp313-win_amd64.whl.metadata (9.2 kB)\n",
      "Collecting pyparsing>=2.3.1 (from matplotlib)\n",
      "  Downloading pyparsing-3.2.3-py3-none-any.whl.metadata (5.0 kB)\n",
      "Requirement already satisfied: python-dateutil>=2.7 in c:\\users\\hello\\appdata\\local\\programs\\python\\python313\\lib\\site-packages (from matplotlib) (2.9.0.post0)\n",
      "Requirement already satisfied: six>=1.5 in c:\\users\\hello\\appdata\\local\\programs\\python\\python313\\lib\\site-packages (from python-dateutil>=2.7->matplotlib) (1.17.0)\n",
      "Downloading matplotlib-3.10.3-cp313-cp313-win_amd64.whl (8.1 MB)\n",
      "   ---------------------------------------- 0.0/8.1 MB ? eta -:--:--\n",
      "   ---------------------------------------- 0.0/8.1 MB ? eta -:--:--\n",
      "   - -------------------------------------- 0.3/8.1 MB ? eta -:--:--\n",
      "   -- ------------------------------------- 0.5/8.1 MB 1.0 MB/s eta 0:00:08\n",
      "   --- ------------------------------------ 0.8/8.1 MB 1.0 MB/s eta 0:00:08\n",
      "   ----- ---------------------------------- 1.0/8.1 MB 1.1 MB/s eta 0:00:07\n",
      "   ------ --------------------------------- 1.3/8.1 MB 1.1 MB/s eta 0:00:07\n",
      "   ------- -------------------------------- 1.6/8.1 MB 1.1 MB/s eta 0:00:06\n",
      "   --------- ------------------------------ 1.8/8.1 MB 1.2 MB/s eta 0:00:06\n",
      "   ---------- ----------------------------- 2.1/8.1 MB 1.2 MB/s eta 0:00:05\n",
      "   ----------- ---------------------------- 2.4/8.1 MB 1.2 MB/s eta 0:00:05\n",
      "   ----------- ---------------------------- 2.4/8.1 MB 1.2 MB/s eta 0:00:05\n",
      "   ----------- ---------------------------- 2.4/8.1 MB 1.2 MB/s eta 0:00:05\n",
      "   ------------ --------------------------- 2.6/8.1 MB 986.8 kB/s eta 0:00:06\n",
      "   --------------- ------------------------ 3.1/8.1 MB 1.1 MB/s eta 0:00:05\n",
      "   ---------------- ----------------------- 3.4/8.1 MB 1.1 MB/s eta 0:00:05\n",
      "   ------------------ --------------------- 3.7/8.1 MB 1.1 MB/s eta 0:00:04\n",
      "   ------------------- -------------------- 3.9/8.1 MB 1.1 MB/s eta 0:00:04\n",
      "   -------------------- ------------------- 4.2/8.1 MB 1.1 MB/s eta 0:00:04\n",
      "   ----------------------- ---------------- 4.7/8.1 MB 1.2 MB/s eta 0:00:03\n",
      "   ------------------------ --------------- 5.0/8.1 MB 1.2 MB/s eta 0:00:03\n",
      "   --------------------------- ------------ 5.5/8.1 MB 1.2 MB/s eta 0:00:03\n",
      "   ---------------------------- ----------- 5.8/8.1 MB 1.3 MB/s eta 0:00:02\n",
      "   ----------------------------- ---------- 6.0/8.1 MB 1.3 MB/s eta 0:00:02\n",
      "   ------------------------------- -------- 6.3/8.1 MB 1.3 MB/s eta 0:00:02\n",
      "   -------------------------------- ------- 6.6/8.1 MB 1.3 MB/s eta 0:00:02\n",
      "   -------------------------------- ------- 6.6/8.1 MB 1.3 MB/s eta 0:00:02\n",
      "   ----------------------------------- ---- 7.1/8.1 MB 1.3 MB/s eta 0:00:01\n",
      "   ------------------------------------- -- 7.6/8.1 MB 1.3 MB/s eta 0:00:01\n",
      "   -------------------------------------- - 7.9/8.1 MB 1.3 MB/s eta 0:00:01\n",
      "   ---------------------------------------- 8.1/8.1 MB 1.3 MB/s eta 0:00:00\n",
      "Downloading contourpy-1.3.2-cp313-cp313-win_amd64.whl (223 kB)\n",
      "Downloading cycler-0.12.1-py3-none-any.whl (8.3 kB)\n",
      "Downloading fonttools-4.58.5-cp313-cp313-win_amd64.whl (2.2 MB)\n",
      "   ---------------------------------------- 0.0/2.2 MB ? eta -:--:--\n",
      "   --------- ------------------------------ 0.5/2.2 MB 2.8 MB/s eta 0:00:01\n",
      "   ------------------ --------------------- 1.0/2.2 MB 2.5 MB/s eta 0:00:01\n",
      "   ----------------------- ---------------- 1.3/2.2 MB 2.2 MB/s eta 0:00:01\n",
      "   ---------------------------- ----------- 1.6/2.2 MB 2.1 MB/s eta 0:00:01\n",
      "   ------------------------------------- -- 2.1/2.2 MB 2.1 MB/s eta 0:00:01\n",
      "   ---------------------------------------- 2.2/2.2 MB 1.8 MB/s eta 0:00:00\n",
      "Downloading kiwisolver-1.4.8-cp313-cp313-win_amd64.whl (71 kB)\n",
      "Downloading pillow-11.3.0-cp313-cp313-win_amd64.whl (7.0 MB)\n",
      "   ---------------------------------------- 0.0/7.0 MB ? eta -:--:--\n",
      "   - -------------------------------------- 0.3/7.0 MB ? eta -:--:--\n",
      "   --- ------------------------------------ 0.5/7.0 MB 1.3 MB/s eta 0:00:05\n",
      "   ------ --------------------------------- 1.0/7.0 MB 1.8 MB/s eta 0:00:04\n",
      "   ------- -------------------------------- 1.3/7.0 MB 1.9 MB/s eta 0:00:03\n",
      "   ---------- ----------------------------- 1.8/7.0 MB 1.9 MB/s eta 0:00:03\n",
      "   ------------- -------------------------- 2.4/7.0 MB 2.1 MB/s eta 0:00:03\n",
      "   ---------------- ----------------------- 2.9/7.0 MB 2.1 MB/s eta 0:00:02\n",
      "   ------------------ --------------------- 3.1/7.0 MB 2.0 MB/s eta 0:00:02\n",
      "   --------------------- ------------------ 3.7/7.0 MB 2.0 MB/s eta 0:00:02\n",
      "   ------------------------ --------------- 4.2/7.0 MB 2.1 MB/s eta 0:00:02\n",
      "   --------------------------- ------------ 4.7/7.0 MB 2.2 MB/s eta 0:00:02\n",
      "   ------------------------------ --------- 5.2/7.0 MB 2.2 MB/s eta 0:00:01\n",
      "   --------------------------------- ------ 5.8/7.0 MB 2.3 MB/s eta 0:00:01\n",
      "   ---------------------------------- ----- 6.0/7.0 MB 2.1 MB/s eta 0:00:01\n",
      "   ------------------------------------ --- 6.3/7.0 MB 2.1 MB/s eta 0:00:01\n",
      "   ------------------------------------ --- 6.3/7.0 MB 2.1 MB/s eta 0:00:01\n",
      "   ---------------------------------------  6.8/7.0 MB 2.0 MB/s eta 0:00:01\n",
      "   ---------------------------------------- 7.0/7.0 MB 1.9 MB/s eta 0:00:00\n",
      "Downloading pyparsing-3.2.3-py3-none-any.whl (111 kB)\n",
      "Installing collected packages: pyparsing, pillow, kiwisolver, fonttools, cycler, contourpy, matplotlib\n",
      "Successfully installed contourpy-1.3.2 cycler-0.12.1 fonttools-4.58.5 kiwisolver-1.4.8 matplotlib-3.10.3 pillow-11.3.0 pyparsing-3.2.3\n"
     ]
    },
    {
     "name": "stderr",
     "output_type": "stream",
     "text": [
      "\n",
      "[notice] A new release of pip is available: 24.3.1 -> 25.1.1\n",
      "[notice] To update, run: python.exe -m pip install --upgrade pip\n",
      "Matplotlib is building the font cache; this may take a moment.\n"
     ]
    },
    {
     "data": {
      "image/png": "[encoded data removed]",
      "text/plain": [
       "<Figure size 640x480 with 1 Axes>"
      ]
     },
     "metadata": {},
     "output_type": "display_data"
    }
   ],
   "source": [
    "#3. Create a scatter plot using Matplotlib?\n",
    "!pip install matplotlib\n",
    "import matplotlib.pyplot as plt\n",
    "x = [10, 20, 30, 40, 50]\n",
    "y = [8, 15, 12, 18, 10]\n",
    "plt.scatter(x, y, color='blue', marker='o', label='Data Points')\n",
    "plt.title('Sample Scatter Plot')\n",
    "plt.xlabel('X Axis')\n",
    "plt.ylabel('Y Axis')\n",
    "plt.legend()\n",
    "plt.show()\n"
   ]
  },
  {
   "cell_type": "code",
   "execution_count": 9,
   "id": "b33930e0-f278-4ea0-818f-8fc350840ca3",
   "metadata": {},
   "outputs": [
    {
     "name": "stderr",
     "output_type": "stream",
     "text": [
      "\n",
      "[notice] A new release of pip is available: 24.3.1 -> 25.1.1\n",
      "[notice] To update, run: python.exe -m pip install --upgrade pip\n"
     ]
    },
    {
     "name": "stdout",
     "output_type": "stream",
     "text": [
      "Collecting seaborn\n",
      "  Downloading seaborn-0.13.2-py3-none-any.whl.metadata (5.4 kB)\n",
      "Requirement already satisfied: numpy!=1.24.0,>=1.20 in c:\\users\\hello\\appdata\\local\\programs\\python\\python313\\lib\\site-packages (from seaborn) (2.2.3)\n",
      "Requirement already satisfied: pandas>=1.2 in c:\\users\\hello\\appdata\\local\\programs\\python\\python313\\lib\\site-packages (from seaborn) (2.2.3)\n",
      "Requirement already satisfied: matplotlib!=3.6.1,>=3.4 in c:\\users\\hello\\appdata\\local\\programs\\python\\python313\\lib\\site-packages (from seaborn) (3.10.3)\n",
      "Requirement already satisfied: contourpy>=1.0.1 in c:\\users\\hello\\appdata\\local\\programs\\python\\python313\\lib\\site-packages (from matplotlib!=3.6.1,>=3.4->seaborn) (1.3.2)\n",
      "Requirement already satisfied: cycler>=0.10 in c:\\users\\hello\\appdata\\local\\programs\\python\\python313\\lib\\site-packages (from matplotlib!=3.6.1,>=3.4->seaborn) (0.12.1)\n",
      "Requirement already satisfied: fonttools>=4.22.0 in c:\\users\\hello\\appdata\\local\\programs\\python\\python313\\lib\\site-packages (from matplotlib!=3.6.1,>=3.4->seaborn) (4.58.5)\n",
      "Requirement already satisfied: kiwisolver>=1.3.1 in c:\\users\\hello\\appdata\\local\\programs\\python\\python313\\lib\\site-packages (from matplotlib!=3.6.1,>=3.4->seaborn) (1.4.8)\n",
      "Requirement already satisfied: packaging>=20.0 in c:\\users\\hello\\appdata\\local\\programs\\python\\python313\\lib\\site-packages (from matplotlib!=3.6.1,>=3.4->seaborn) (24.2)\n",
      "Requirement already satisfied: pillow>=8 in c:\\users\\hello\\appdata\\local\\programs\\python\\python313\\lib\\site-packages (from matplotlib!=3.6.1,>=3.4->seaborn) (11.3.0)\n",
      "Requirement already satisfied: pyparsing>=2.3.1 in c:\\users\\hello\\appdata\\local\\programs\\python\\python313\\lib\\site-packages (from matplotlib!=3.6.1,>=3.4->seaborn) (3.2.3)\n",
      "Requirement already satisfied: python-dateutil>=2.7 in c:\\users\\hello\\appdata\\local\\programs\\python\\python313\\lib\\site-packages (from matplotlib!=3.6.1,>=3.4->seaborn) (2.9.0.post0)\n",
      "Requirement already satisfied: pytz>=2020.1 in c:\\users\\hello\\appdata\\local\\programs\\python\\python313\\lib\\site-packages (from pandas>=1.2->seaborn) (2025.1)\n",
      "Requirement already satisfied: tzdata>=2022.7 in c:\\users\\hello\\appdata\\local\\programs\\python\\python313\\lib\\site-packages (from pandas>=1.2->seaborn) (2025.1)\n",
      "Requirement already satisfied: six>=1.5 in c:\\users\\hello\\appdata\\local\\programs\\python\\python313\\lib\\site-packages (from python-dateutil>=2.7->matplotlib!=3.6.1,>=3.4->seaborn) (1.17.0)\n",
      "Downloading seaborn-0.13.2-py3-none-any.whl (294 kB)\n",
      "Installing collected packages: seaborn\n",
      "Successfully installed seaborn-0.13.2\n"
     ]
    },
    {
     "data": {
      "image/png": "[encoded data removed]",
      "text/plain": [
       "<Figure size 640x480 with 2 Axes>"
      ]
     },
     "metadata": {},
     "output_type": "display_data"
    }
   ],
   "source": [
    "#4.How do you calculate the correlation matrix using Seaborn and visualize it with a heatmap?\n",
    "import pandas as pd\n",
    "!pip install seaborn\n",
    "import seaborn as sns\n",
    "import matplotlib.pyplot as plt\n",
    "df = sns.load_dataset('iris')\n",
    "corr_matrix = df.corr(numeric_only=True)  # Only numeric columns\n",
    "sns.heatmap(corr_matrix, annot=True, cmap='coolwarm', fmt=\".2f\")\n",
    "plt.title(\"Correlation Matrix Heatmap\")\n",
    "plt.show()\n",
    "\n"
   ]
  },
  {
   "cell_type": "code",
   "execution_count": 13,
   "id": "97400da5-687e-4e66-a72c-2ec88cd04322",
   "metadata": {},
   "outputs": [
    {
     "name": "stderr",
     "output_type": "stream",
     "text": [
      "\n",
      "[notice] A new release of pip is available: 24.3.1 -> 25.1.1\n",
      "[notice] To update, run: python.exe -m pip install --upgrade pip\n"
     ]
    },
    {
     "name": "stdout",
     "output_type": "stream",
     "text": [
      "Collecting plotly\n",
      "  Downloading plotly-6.2.0-py3-none-any.whl.metadata (8.5 kB)\n",
      "Collecting narwhals>=1.15.1 (from plotly)\n",
      "  Downloading narwhals-1.46.0-py3-none-any.whl.metadata (11 kB)\n",
      "Requirement already satisfied: packaging in c:\\users\\hello\\appdata\\local\\programs\\python\\python313\\lib\\site-packages (from plotly) (24.2)\n",
      "Downloading plotly-6.2.0-py3-none-any.whl (9.6 MB)\n",
      "   ---------------------------------------- 0.0/9.6 MB ? eta -:--:--\n",
      "   - -------------------------------------- 0.3/9.6 MB ? eta -:--:--\n",
      "   --- ------------------------------------ 0.8/9.6 MB 3.3 MB/s eta 0:00:03\n",
      "   ------ --------------------------------- 1.6/9.6 MB 3.2 MB/s eta 0:00:03\n",
      "   -------- ------------------------------- 2.1/9.6 MB 3.1 MB/s eta 0:00:03\n",
      "   ---------- ----------------------------- 2.6/9.6 MB 2.8 MB/s eta 0:00:03\n",
      "   ------------- -------------------------- 3.1/9.6 MB 2.9 MB/s eta 0:00:03\n",
      "   ---------------- ----------------------- 3.9/9.6 MB 3.0 MB/s eta 0:00:02\n",
      "   ------------------ --------------------- 4.5/9.6 MB 3.0 MB/s eta 0:00:02\n",
      "   --------------------- ------------------ 5.2/9.6 MB 3.0 MB/s eta 0:00:02\n",
      "   ----------------------- ---------------- 5.8/9.6 MB 3.1 MB/s eta 0:00:02\n",
      "   -------------------------- ------------- 6.3/9.6 MB 3.1 MB/s eta 0:00:02\n",
      "   ---------------------------- ----------- 6.8/9.6 MB 2.9 MB/s eta 0:00:01\n",
      "   ---------------------------- ----------- 6.8/9.6 MB 2.9 MB/s eta 0:00:01\n",
      "   ------------------------------ --------- 7.3/9.6 MB 2.6 MB/s eta 0:00:01\n",
      "   ------------------------------- -------- 7.6/9.6 MB 2.5 MB/s eta 0:00:01\n",
      "   --------------------------------- ------ 8.1/9.6 MB 2.5 MB/s eta 0:00:01\n",
      "   ---------------------------------- ----- 8.4/9.6 MB 2.5 MB/s eta 0:00:01\n",
      "   ----------------------------------- ---- 8.7/9.6 MB 2.5 MB/s eta 0:00:01\n",
      "   -------------------------------------- - 9.2/9.6 MB 2.5 MB/s eta 0:00:01\n",
      "   ---------------------------------------  9.4/9.6 MB 2.4 MB/s eta 0:00:01\n",
      "   ---------------------------------------  9.4/9.6 MB 2.4 MB/s eta 0:00:01\n",
      "   ---------------------------------------- 9.6/9.6 MB 2.2 MB/s eta 0:00:00\n",
      "Downloading narwhals-1.46.0-py3-none-any.whl (373 kB)\n",
      "Installing collected packages: narwhals, plotly\n",
      "Successfully installed narwhals-1.46.0 plotly-6.2.0\n"
     ]
    },
    {
     "data": {
      "application/vnd.plotly.v1+json": {
       "config": {
        "plotlyServerURL": "https://plot.ly"
       },
       "data": [
        {
         "hovertemplate": "Fruit=%{x}<br>Sales=%{y}<extra></extra>",
         "legendgroup": "",
         "marker": {
          "color": "#636efa",
          "pattern": {
           "shape": ""
          }
         },
         "name": "",
         "orientation": "v",
         "showlegend": false,
         "textposition": "auto",
         "type": "bar",
         "x": [
          "Apples",
          "Oranges",
          "Bananas",
          "Grapes"
         ],
         "xaxis": "x",
         "y": {
          "bdata": "ZACWAFAAeAA=",
          "dtype": "i2"
         },
         "yaxis": "y"
        }
       ],
       "layout": {
        "barmode": "relative",
        "legend": {
         "tracegroupgap": 0
        },
        "template": {
         "data": {
          "bar": [
           {
            "error_x": {
             "color": "#2a3f5f"
            },
            "error_y": {
             "color": "#2a3f5f"
            },
            "marker": {
             "line": {
              "color": "#E5ECF6",
              "width": 0.5
             },
             "pattern": {
              "fillmode": "overlay",
              "size": 10,
              "solidity": 0.2
             }
            },
            "type": "bar"
           }
          ],
          "barpolar": [
           {
            "marker": {
             "line": {
              "color": "#E5ECF6",
              "width": 0.5
             },
             "pattern": {
              "fillmode": "overlay",
              "size": 10,
              "solidity": 0.2
             }
            },
            "type": "barpolar"
           }
          ],
          "carpet": [
           {
            "aaxis": {
             "endlinecolor": "#2a3f5f",
             "gridcolor": "white",
             "linecolor": "white",
             "minorgridcolor": "white",
             "startlinecolor": "#2a3f5f"
            },
            "baxis": {
             "endlinecolor": "#2a3f5f",
             "gridcolor": "white",
             "linecolor": "white",
             "minorgridcolor": "white",
             "startlinecolor": "#2a3f5f"
            },
            "type": "carpet"
           }
          ],
          "choropleth": [
           {
            "colorbar": {
             "outlinewidth": 0,
             "ticks": ""
            },
            "type": "choropleth"
           }
          ],
          "contour": [
           {
            "colorbar": {
             "outlinewidth": 0,
             "ticks": ""
            },
            "colorscale": [
             [
              0,
              "#0d0887"
             ],
             [
              0.1111111111111111,
              "#46039f"
             ],
             [
              0.2222222222222222,
              "#7201a8"
             ],
             [
              0.3333333333333333,
              "#9c179e"
             ],
             [
              0.4444444444444444,
              "#bd3786"
             ],
             [
              0.5555555555555556,
              "#d8576b"
             ],
             [
              0.6666666666666666,
              "#ed7953"
             ],
             [
              0.7777777777777778,
              "#fb9f3a"
             ],
             [
              0.8888888888888888,
              "#fdca26"
             ],
             [
              1,
              "#f0f921"
             ]
            ],
            "type": "contour"
           }
          ],
          "contourcarpet": [
           {
            "colorbar": {
             "outlinewidth": 0,
             "ticks": ""
            },
            "type": "contourcarpet"
           }
          ],
          "heatmap": [
           {
            "colorbar": {
             "outlinewidth": 0,
             "ticks": ""
            },
            "colorscale": [
             [
              0,
              "#0d0887"
             ],
             [
              0.1111111111111111,
              "#46039f"
             ],
             [
              0.2222222222222222,
              "#7201a8"
             ],
             [
              0.3333333333333333,
              "#9c179e"
             ],
             [
              0.4444444444444444,
              "#bd3786"
             ],
             [
              0.5555555555555556,
              "#d8576b"
             ],
             [
              0.6666666666666666,
              "#ed7953"
             ],
             [
              0.7777777777777778,
              "#fb9f3a"
             ],
             [
              0.8888888888888888,
              "#fdca26"
             ],
             [
              1,
              "#f0f921"
             ]
            ],
            "type": "heatmap"
           }
          ],
          "histogram": [
           {
            "marker": {
             "pattern": {
              "fillmode": "overlay",
              "size": 10,
              "solidity": 0.2
             }
            },
            "type": "histogram"
           }
          ],
          "histogram2d": [
           {
            "colorbar": {
             "outlinewidth": 0,
             "ticks": ""
            },
            "colorscale": [
             [
              0,
              "#0d0887"
             ],
             [
              0.1111111111111111,
              "#46039f"
             ],
             [
              0.2222222222222222,
              "#7201a8"
             ],
             [
              0.3333333333333333,
              "#9c179e"
             ],
             [
              0.4444444444444444,
              "#bd3786"
             ],
             [
              0.5555555555555556,
              "#d8576b"
             ],
             [
              0.6666666666666666,
              "#ed7953"
             ],
             [
              0.7777777777777778,
              "#fb9f3a"
             ],
             [
              0.8888888888888888,
              "#fdca26"
             ],
             [
              1,
              "#f0f921"
             ]
            ],
            "type": "histogram2d"
           }
          ],
          "histogram2dcontour": [
           {
            "colorbar": {
             "outlinewidth": 0,
             "ticks": ""
            },
            "colorscale": [
             [
              0,
              "#0d0887"
             ],
             [
              0.1111111111111111,
              "#46039f"
             ],
             [
              0.2222222222222222,
              "#7201a8"
             ],
             [
              0.3333333333333333,
              "#9c179e"
             ],
             [
              0.4444444444444444,
              "#bd3786"
             ],
             [
              0.5555555555555556,
              "#d8576b"
             ],
             [
              0.6666666666666666,
              "#ed7953"
             ],
             [
              0.7777777777777778,
              "#fb9f3a"
             ],
             [
              0.8888888888888888,
              "#fdca26"
             ],
             [
              1,
              "#f0f921"
             ]
            ],
            "type": "histogram2dcontour"
           }
          ],
          "mesh3d": [
           {
            "colorbar": {
             "outlinewidth": 0,
             "ticks": ""
            },
            "type": "mesh3d"
           }
          ],
          "parcoords": [
           {
            "line": {
             "colorbar": {
              "outlinewidth": 0,
              "ticks": ""
             }
            },
            "type": "parcoords"
           }
          ],
          "pie": [
           {
            "automargin": true,
            "type": "pie"
           }
          ],
          "scatter": [
           {
            "fillpattern": {
             "fillmode": "overlay",
             "size": 10,
             "solidity": 0.2
            },
            "type": "scatter"
           }
          ],
          "scatter3d": [
           {
            "line": {
             "colorbar": {
              "outlinewidth": 0,
              "ticks": ""
             }
            },
            "marker": {
             "colorbar": {
              "outlinewidth": 0,
              "ticks": ""
             }
            },
            "type": "scatter3d"
           }
          ],
          "scattercarpet": [
           {
            "marker": {
             "colorbar": {
              "outlinewidth": 0,
              "ticks": ""
             }
            },
            "type": "scattercarpet"
           }
          ],
          "scattergeo": [
           {
            "marker": {
             "colorbar": {
              "outlinewidth": 0,
              "ticks": ""
             }
            },
            "type": "scattergeo"
           }
          ],
          "scattergl": [
           {
            "marker": {
             "colorbar": {
              "outlinewidth": 0,
              "ticks": ""
             }
            },
            "type": "scattergl"
           }
          ],
          "scattermap": [
           {
            "marker": {
             "colorbar": {
              "outlinewidth": 0,
              "ticks": ""
             }
            },
            "type": "scattermap"
           }
          ],
          "scattermapbox": [
           {
            "marker": {
             "colorbar": {
              "outlinewidth": 0,
              "ticks": ""
             }
            },
            "type": "scattermapbox"
           }
          ],
          "scatterpolar": [
           {
            "marker": {
             "colorbar": {
              "outlinewidth": 0,
              "ticks": ""
             }
            },
            "type": "scatterpolar"
           }
          ],
          "scatterpolargl": [
           {
            "marker": {
             "colorbar": {
              "outlinewidth": 0,
              "ticks": ""
             }
            },
            "type": "scatterpolargl"
           }
          ],
          "scatterternary": [
           {
            "marker": {
             "colorbar": {
              "outlinewidth": 0,
              "ticks": ""
             }
            },
            "type": "scatterternary"
           }
          ],
          "surface": [
           {
            "colorbar": {
             "outlinewidth": 0,
             "ticks": ""
            },
            "colorscale": [
             [
              0,
              "#0d0887"
             ],
             [
              0.1111111111111111,
              "#46039f"
             ],
             [
              0.2222222222222222,
              "#7201a8"
             ],
             [
              0.3333333333333333,
              "#9c179e"
             ],
             [
              0.4444444444444444,
              "#bd3786"
             ],
             [
              0.5555555555555556,
              "#d8576b"
             ],
             [
              0.6666666666666666,
              "#ed7953"
             ],
             [
              0.7777777777777778,
              "#fb9f3a"
             ],
             [
              0.8888888888888888,
              "#fdca26"
             ],
             [
              1,
              "#f0f921"
             ]
            ],
            "type": "surface"
           }
          ],
          "table": [
           {
            "cells": {
             "fill": {
              "color": "#EBF0F8"
             },
             "line": {
              "color": "white"
             }
            },
            "header": {
             "fill": {
              "color": "#C8D4E3"
             },
             "line": {
              "color": "white"
             }
            },
            "type": "table"
           }
          ]
         },
         "layout": {
          "annotationdefaults": {
           "arrowcolor": "#2a3f5f",
           "arrowhead": 0,
           "arrowwidth": 1
          },
          "autotypenumbers": "strict",
          "coloraxis": {
           "colorbar": {
            "outlinewidth": 0,
            "ticks": ""
           }
          },
          "colorscale": {
           "diverging": [
            [
             0,
             "#8e0152"
            ],
            [
             0.1,
             "#c51b7d"
            ],
            [
             0.2,
             "#de77ae"
            ],
            [
             0.3,
             "#f1b6da"
            ],
            [
             0.4,
             "#fde0ef"
            ],
            [
             0.5,
             "#f7f7f7"
            ],
            [
             0.6,
             "#e6f5d0"
            ],
            [
             0.7,
             "#b8e186"
            ],
            [
             0.8,
             "#7fbc41"
            ],
            [
             0.9,
             "#4d9221"
            ],
            [
             1,
             "#276419"
            ]
           ],
           "sequential": [
            [
             0,
             "#0d0887"
            ],
            [
             0.1111111111111111,
             "#46039f"
            ],
            [
             0.2222222222222222,
             "#7201a8"
            ],
            [
             0.3333333333333333,
             "#9c179e"
            ],
            [
             0.4444444444444444,
             "#bd3786"
            ],
            [
             0.5555555555555556,
             "#d8576b"
            ],
            [
             0.6666666666666666,
             "#ed7953"
            ],
            [
             0.7777777777777778,
             "#fb9f3a"
            ],
            [
             0.8888888888888888,
             "#fdca26"
            ],
            [
             1,
             "#f0f921"
            ]
           ],
           "sequentialminus": [
            [
             0,
             "#0d0887"
            ],
            [
             0.1111111111111111,
             "#46039f"
            ],
            [
             0.2222222222222222,
             "#7201a8"
            ],
            [
             0.3333333333333333,
             "#9c179e"
            ],
            [
             0.4444444444444444,
             "#bd3786"
            ],
            [
             0.5555555555555556,
             "#d8576b"
            ],
            [
             0.6666666666666666,
             "#ed7953"
            ],
            [
             0.7777777777777778,
             "#fb9f3a"
            ],
            [
             0.8888888888888888,
             "#fdca26"
            ],
            [
             1,
             "#f0f921"
            ]
           ]
          },
          "colorway": [
           "#636efa",
           "#EF553B",
           "#00cc96",
           "#ab63fa",
           "#FFA15A",
           "#19d3f3",
           "#FF6692",
           "#B6E880",
           "#FF97FF",
           "#FECB52"
          ],
          "font": {
           "color": "#2a3f5f"
          },
          "geo": {
           "bgcolor": "white",
           "lakecolor": "white",
           "landcolor": "#E5ECF6",
           "showlakes": true,
           "showland": true,
           "subunitcolor": "white"
          },
          "hoverlabel": {
           "align": "left"
          },
          "hovermode": "closest",
          "mapbox": {
           "style": "light"
          },
          "paper_bgcolor": "white",
          "plot_bgcolor": "#E5ECF6",
          "polar": {
           "angularaxis": {
            "gridcolor": "white",
            "linecolor": "white",
            "ticks": ""
           },
           "bgcolor": "#E5ECF6",
           "radialaxis": {
            "gridcolor": "white",
            "linecolor": "white",
            "ticks": ""
           }
          },
          "scene": {
           "xaxis": {
            "backgroundcolor": "#E5ECF6",
            "gridcolor": "white",
            "gridwidth": 2,
            "linecolor": "white",
            "showbackground": true,
            "ticks": "",
            "zerolinecolor": "white"
           },
           "yaxis": {
            "backgroundcolor": "#E5ECF6",
            "gridcolor": "white",
            "gridwidth": 2,
            "linecolor": "white",
            "showbackground": true,
            "ticks": "",
            "zerolinecolor": "white"
           },
           "zaxis": {
            "backgroundcolor": "#E5ECF6",
            "gridcolor": "white",
            "gridwidth": 2,
            "linecolor": "white",
            "showbackground": true,
            "ticks": "",
            "zerolinecolor": "white"
           }
          },
          "shapedefaults": {
           "line": {
            "color": "#2a3f5f"
           }
          },
          "ternary": {
           "aaxis": {
            "gridcolor": "white",
            "linecolor": "white",
            "ticks": ""
           },
           "baxis": {
            "gridcolor": "white",
            "linecolor": "white",
            "ticks": ""
           },
           "bgcolor": "#E5ECF6",
           "caxis": {
            "gridcolor": "white",
            "linecolor": "white",
            "ticks": ""
           }
          },
          "title": {
           "x": 0.05
          },
          "xaxis": {
           "automargin": true,
           "gridcolor": "white",
           "linecolor": "white",
           "ticks": "",
           "title": {
            "standoff": 15
           },
           "zerolinecolor": "white",
           "zerolinewidth": 2
          },
          "yaxis": {
           "automargin": true,
           "gridcolor": "white",
           "linecolor": "white",
           "ticks": "",
           "title": {
            "standoff": 15
           },
           "zerolinecolor": "white",
           "zerolinewidth": 2
          }
         }
        },
        "title": {
         "text": "Fruit Sales"
        },
        "xaxis": {
         "anchor": "y",
         "domain": [
          0,
          1
         ],
         "title": {
          "text": "Fruit"
         }
        },
        "yaxis": {
         "anchor": "x",
         "domain": [
          0,
          1
         ],
         "title": {
          "text": "Sales"
         }
        }
       }
      }
     },
     "metadata": {},
     "output_type": "display_data"
    }
   ],
   "source": [
    "#5. Generate a bar plot using Plotly?\n",
    "!pip install plotly\n",
    "import plotly.express as px\n",
    "data = {\n",
    "    'Fruit': ['Apples', 'Oranges', 'Bananas', 'Grapes'],\n",
    "    'Sales': [100, 150, 80, 120]\n",
    "}\n",
    "import pandas as pd\n",
    "df = pd.DataFrame(data)\n",
    "fig = px.bar(df, x='Fruit', y='Sales', title='Fruit Sales')\n",
    "fig.show()\n"
   ]
  },
  {
   "cell_type": "code",
   "execution_count": 14,
   "id": "367652d0-3c55-4802-8a0e-b7d8d303a684",
   "metadata": {},
   "outputs": [
    {
     "name": "stdout",
     "output_type": "stream",
     "text": [
      "      Name  Score Passed\n",
      "0    Alice     85    Yes\n",
      "1      Bob     92    Yes\n",
      "2  Charlie     78     No\n"
     ]
    }
   ],
   "source": [
    "#6. Create a DataFrame and add a new column based on an existing column?\n",
    "import pandas as pd\n",
    "data = {\n",
    "    'Name': ['Alice', 'Bob', 'Charlie'],\n",
    "    'Score': [85, 92, 78]\n",
    "}\n",
    "df = pd.DataFrame(data)\n",
    "df['Passed'] = df['Score'].apply(lambda x: 'Yes' if x >= 80 else 'No')\n",
    "print(df)\n",
    "\n"
   ]
  },
  {
   "cell_type": "code",
   "execution_count": 15,
   "id": "b2f2409a-918a-42d0-877b-8391c6eab829",
   "metadata": {},
   "outputs": [
    {
     "name": "stdout",
     "output_type": "stream",
     "text": [
      "Array 1: [10 20 30 40]\n",
      "Array 2: [1 2 3 4]\n",
      "Element-wise Multiplication: [ 10  40  90 160]\n"
     ]
    }
   ],
   "source": [
    "#7. Write a program to perform element-wise multiplication of two NumPy array?\n",
    "import numpy as np\n",
    "array1 = np.array([10, 20, 30, 40])\n",
    "array2 = np.array([1, 2, 3, 4])\n",
    "result = np.multiply(array1, array2)\n",
    "print(\"Array 1:\", array1)\n",
    "print(\"Array 2:\", array2)\n",
    "print(\"Element-wise Multiplication:\", result)\n"
   ]
  },
  {
   "cell_type": "code",
   "execution_count": 16,
   "id": "f56a6199-0dae-4329-b21a-73607b646ff2",
   "metadata": {},
   "outputs": [
    {
     "data": {
      "image/png": "[encoded data removed]",
      "text/plain": [
       "<Figure size 640x480 with 1 Axes>"
      ]
     },
     "metadata": {},
     "output_type": "display_data"
    }
   ],
   "source": [
    "#8. Create a line plot with multiple lines using Matplotlib?\n",
    "import matplotlib.pyplot as plt\n",
    "x = [1, 2, 3, 4, 5]\n",
    "y1 = [1, 4, 9, 16, 25]      \n",
    "y2 = [1, 2, 3, 4, 5]        \n",
    "y3 = [25, 20, 15, 10, 5]    \n",
    "\n",
    "plt.plot(x, y1, label='x squared', color='blue')\n",
    "plt.plot(x, y2, label='x', color='green')\n",
    "plt.plot(x, y3, label='decreasing', color='red')\n",
    "\n",
    "\n",
    "plt.xlabel('X-axis')\n",
    "plt.ylabel('Y-axis')\n",
    "plt.title('Multiple Line Plot Example')\n",
    "\n",
    "\n",
    "plt.legend()\n",
    "plt.show()\n"
   ]
  },
  {
   "cell_type": "code",
   "execution_count": 18,
   "id": "54be74a2-e5f9-445a-bca1-dcaafa678b93",
   "metadata": {},
   "outputs": [
    {
     "name": "stdout",
     "output_type": "stream",
     "text": [
      "Original DataFrame:\n",
      "      Name  Score\n",
      "0    Alice     85\n",
      "1      Bob     72\n",
      "2  Charlie     90\n",
      "3    David     65\n",
      "\n",
      "Filtered DataFrame (Score > 80):\n",
      "      Name  Score\n",
      "0    Alice     85\n",
      "2  Charlie     90\n"
     ]
    }
   ],
   "source": [
    " #9.Generate a Pandas DataFrame and filter rows where a column value is greater than a threshold?\n",
    "import pandas as pd\n",
    "data = {\n",
    "    'Name': ['Alice', 'Bob', 'Charlie', 'David'],\n",
    "    'Score': [85, 72, 90, 65]\n",
    "}\n",
    "df = pd.DataFrame(data)\n",
    "threshold = 80\n",
    "filtered_df = df[df['Score'] > threshold]\n",
    "print(\"Original DataFrame:\")\n",
    "print(df)\n",
    "print(\"\\nFiltered DataFrame (Score > 80):\")\n",
    "print(filtered_df)\n"
   ]
  },
  {
   "cell_type": "code",
   "execution_count": 20,
   "id": "4d0854b8-617b-4547-884c-97e485d6ba5c",
   "metadata": {},
   "outputs": [
    {
     "data": {
      "image/png": "[encoded data removed]",
      "text/plain": [
       "<Figure size 640x480 with 1 Axes>"
      ]
     },
     "metadata": {},
     "output_type": "display_data"
    }
   ],
   "source": [
    "#10. Create a histogram using Seaborn to visualize a distribution?\n",
    "import seaborn as sns\n",
    "import matplotlib.pyplot as plt\n",
    "tips = sns.load_dataset('tips')\n",
    "sns.histplot(data=tips, x='total_bill', bins=20, kde=True, color='skyblue')\n",
    "plt.title('Distribution of Total Bill')\n",
    "plt.xlabel('Total Bill')\n",
    "plt.ylabel('Frequency')\n",
    "plt.show()\n"
   ]
  },
  {
   "cell_type": "code",
   "execution_count": 21,
   "id": "9ba658e3-5f72-422a-82fe-f7589d270f4d",
   "metadata": {},
   "outputs": [
    {
     "name": "stdout",
     "output_type": "stream",
     "text": [
      "Matrix A:\n",
      " [[1 2]\n",
      " [3 4]]\n",
      "Matrix B:\n",
      " [[5 6]\n",
      " [7 8]]\n",
      "\n",
      "Result using np.dot():\n",
      " [[19 22]\n",
      " [43 50]]\n",
      "\n",
      "Result using @ operator:\n",
      " [[19 22]\n",
      " [43 50]]\n"
     ]
    }
   ],
   "source": [
    "#11. Perform matrix multiplication using NumPy?\n",
    "import numpy as np\n",
    "A = np.array([[1, 2],\n",
    "              [3, 4]])\n",
    "\n",
    "B = np.array([[5, 6],\n",
    "              [7, 8]])\n",
    "result1 = np.dot(A, B)\n",
    "result2 = A @ B\n",
    "print(\"Matrix A:\\n\", A)\n",
    "print(\"Matrix B:\\n\", B)\n",
    "print(\"\\nResult using np.dot():\\n\", result1)\n",
    "print(\"\\nResult using @ operator:\\n\", result2)\n"
   ]
  },
  {
   "cell_type": "code",
   "execution_count": 22,
   "id": "acfd1ee8-79a5-4d63-8b78-241bf564f697",
   "metadata": {},
   "outputs": [
    {
     "name": "stdout",
     "output_type": "stream",
     "text": [
      "  Rk         Player Pos Age   Tm   G  GS    MP   FG  FGA  ...   FT%  ORB  DRB  \\\n",
      "0  1     Quincy Acy  PF  24  NYK  68  22  1287  152  331  ...  .784   79  222   \n",
      "1  2   Jordan Adams  SG  20  MEM  30   0   248   35   86  ...  .609    9   19   \n",
      "2  3   Steven Adams   C  21  OKC  70  67  1771  217  399  ...  .502  199  324   \n",
      "3  4    Jeff Adrien  PF  28  MIN  17   0   215   19   44  ...  .579   23   54   \n",
      "4  5  Arron Afflalo  SG  29  TOT  78  72  2502  375  884  ...  .843   27  220   \n",
      "\n",
      "   TRB  AST STL BLK  TOV   PF   PTS  \n",
      "0  301   68  27  22   60  147   398  \n",
      "1   28   16  16   7   14   24    94  \n",
      "2  523   66  38  86   99  222   537  \n",
      "3   77   15   4   9    9   30    60  \n",
      "4  247  129  41   7  116  167  1035  \n",
      "\n",
      "[5 rows x 30 columns]\n"
     ]
    }
   ],
   "source": [
    "#12.Use Pandas to load a CSV file and display its first 5 rows?\n",
    "import pandas as pd\n",
    "df = pd.read_csv('players.csv')\n",
    "print(df.head())\n"
   ]
  },
  {
   "cell_type": "code",
   "execution_count": 24,
   "id": "26126f38-b954-4f97-bd5a-d1dac0c344ab",
   "metadata": {},
   "outputs": [
    {
     "data": {
      "application/vnd.plotly.v1+json": {
       "config": {
        "plotlyServerURL": "https://plot.ly"
       },
       "data": [
        {
         "hovertemplate": "label=A<br>x=%{x}<br>y=%{y}<br>z=%{z}<extra></extra>",
         "legendgroup": "A",
         "marker": {
          "color": "#636efa",
          "symbol": "circle"
         },
         "mode": "markers",
         "name": "A",
         "scene": "scene",
         "showlegend": true,
         "type": "scatter3d",
         "x": {
          "bdata": "AQ==",
          "dtype": "i1"
         },
         "y": {
          "bdata": "Cg==",
          "dtype": "i1"
         },
         "z": {
          "bdata": "BQ==",
          "dtype": "i1"
         }
        },
        {
         "hovertemplate": "label=B<br>x=%{x}<br>y=%{y}<br>z=%{z}<extra></extra>",
         "legendgroup": "B",
         "marker": {
          "color": "#EF553B",
          "symbol": "circle"
         },
         "mode": "markers",
         "name": "B",
         "scene": "scene",
         "showlegend": true,
         "type": "scatter3d",
         "x": {
          "bdata": "Ag==",
          "dtype": "i1"
         },
         "y": {
          "bdata": "Cw==",
          "dtype": "i1"
         },
         "z": {
          "bdata": "BA==",
          "dtype": "i1"
         }
        },
        {
         "hovertemplate": "label=C<br>x=%{x}<br>y=%{y}<br>z=%{z}<extra></extra>",
         "legendgroup": "C",
         "marker": {
          "color": "#00cc96",
          "symbol": "circle"
         },
         "mode": "markers",
         "name": "C",
         "scene": "scene",
         "showlegend": true,
         "type": "scatter3d",
         "x": {
          "bdata": "Aw==",
          "dtype": "i1"
         },
         "y": {
          "bdata": "DA==",
          "dtype": "i1"
         },
         "z": {
          "bdata": "Aw==",
          "dtype": "i1"
         }
        },
        {
         "hovertemplate": "label=D<br>x=%{x}<br>y=%{y}<br>z=%{z}<extra></extra>",
         "legendgroup": "D",
         "marker": {
          "color": "#ab63fa",
          "symbol": "circle"
         },
         "mode": "markers",
         "name": "D",
         "scene": "scene",
         "showlegend": true,
         "type": "scatter3d",
         "x": {
          "bdata": "BA==",
          "dtype": "i1"
         },
         "y": {
          "bdata": "DQ==",
          "dtype": "i1"
         },
         "z": {
          "bdata": "Ag==",
          "dtype": "i1"
         }
        },
        {
         "hovertemplate": "label=E<br>x=%{x}<br>y=%{y}<br>z=%{z}<extra></extra>",
         "legendgroup": "E",
         "marker": {
          "color": "#FFA15A",
          "symbol": "circle"
         },
         "mode": "markers",
         "name": "E",
         "scene": "scene",
         "showlegend": true,
         "type": "scatter3d",
         "x": {
          "bdata": "BQ==",
          "dtype": "i1"
         },
         "y": {
          "bdata": "Dg==",
          "dtype": "i1"
         },
         "z": {
          "bdata": "AQ==",
          "dtype": "i1"
         }
        }
       ],
       "layout": {
        "legend": {
         "title": {
          "text": "label"
         },
         "tracegroupgap": 0
        },
        "scene": {
         "domain": {
          "x": [
           0,
           1
          ],
          "y": [
           0,
           1
          ]
         },
         "xaxis": {
          "title": {
           "text": "x"
          }
         },
         "yaxis": {
          "title": {
           "text": "y"
          }
         },
         "zaxis": {
          "title": {
           "text": "z"
          }
         }
        },
        "template": {
         "data": {
          "bar": [
           {
            "error_x": {
             "color": "#2a3f5f"
            },
            "error_y": {
             "color": "#2a3f5f"
            },
            "marker": {
             "line": {
              "color": "#E5ECF6",
              "width": 0.5
             },
             "pattern": {
              "fillmode": "overlay",
              "size": 10,
              "solidity": 0.2
             }
            },
            "type": "bar"
           }
          ],
          "barpolar": [
           {
            "marker": {
             "line": {
              "color": "#E5ECF6",
              "width": 0.5
             },
             "pattern": {
              "fillmode": "overlay",
              "size": 10,
              "solidity": 0.2
             }
            },
            "type": "barpolar"
           }
          ],
          "carpet": [
           {
            "aaxis": {
             "endlinecolor": "#2a3f5f",
             "gridcolor": "white",
             "linecolor": "white",
             "minorgridcolor": "white",
             "startlinecolor": "#2a3f5f"
            },
            "baxis": {
             "endlinecolor": "#2a3f5f",
             "gridcolor": "white",
             "linecolor": "white",
             "minorgridcolor": "white",
             "startlinecolor": "#2a3f5f"
            },
            "type": "carpet"
           }
          ],
          "choropleth": [
           {
            "colorbar": {
             "outlinewidth": 0,
             "ticks": ""
            },
            "type": "choropleth"
           }
          ],
          "contour": [
           {
            "colorbar": {
             "outlinewidth": 0,
             "ticks": ""
            },
            "colorscale": [
             [
              0,
              "#0d0887"
             ],
             [
              0.1111111111111111,
              "#46039f"
             ],
             [
              0.2222222222222222,
              "#7201a8"
             ],
             [
              0.3333333333333333,
              "#9c179e"
             ],
             [
              0.4444444444444444,
              "#bd3786"
             ],
             [
              0.5555555555555556,
              "#d8576b"
             ],
             [
              0.6666666666666666,
              "#ed7953"
             ],
             [
              0.7777777777777778,
              "#fb9f3a"
             ],
             [
              0.8888888888888888,
              "#fdca26"
             ],
             [
              1,
              "#f0f921"
             ]
            ],
            "type": "contour"
           }
          ],
          "contourcarpet": [
           {
            "colorbar": {
             "outlinewidth": 0,
             "ticks": ""
            },
            "type": "contourcarpet"
           }
          ],
          "heatmap": [
           {
            "colorbar": {
             "outlinewidth": 0,
             "ticks": ""
            },
            "colorscale": [
             [
              0,
              "#0d0887"
             ],
             [
              0.1111111111111111,
              "#46039f"
             ],
             [
              0.2222222222222222,
              "#7201a8"
             ],
             [
              0.3333333333333333,
              "#9c179e"
             ],
             [
              0.4444444444444444,
              "#bd3786"
             ],
             [
              0.5555555555555556,
              "#d8576b"
             ],
             [
              0.6666666666666666,
              "#ed7953"
             ],
             [
              0.7777777777777778,
              "#fb9f3a"
             ],
             [
              0.8888888888888888,
              "#fdca26"
             ],
             [
              1,
              "#f0f921"
             ]
            ],
            "type": "heatmap"
           }
          ],
          "histogram": [
           {
            "marker": {
             "pattern": {
              "fillmode": "overlay",
              "size": 10,
              "solidity": 0.2
             }
            },
            "type": "histogram"
           }
          ],
          "histogram2d": [
           {
            "colorbar": {
             "outlinewidth": 0,
             "ticks": ""
            },
            "colorscale": [
             [
              0,
              "#0d0887"
             ],
             [
              0.1111111111111111,
              "#46039f"
             ],
             [
              0.2222222222222222,
              "#7201a8"
             ],
             [
              0.3333333333333333,
              "#9c179e"
             ],
             [
              0.4444444444444444,
              "#bd3786"
             ],
             [
              0.5555555555555556,
              "#d8576b"
             ],
             [
              0.6666666666666666,
              "#ed7953"
             ],
             [
              0.7777777777777778,
              "#fb9f3a"
             ],
             [
              0.8888888888888888,
              "#fdca26"
             ],
             [
              1,
              "#f0f921"
             ]
            ],
            "type": "histogram2d"
           }
          ],
          "histogram2dcontour": [
           {
            "colorbar": {
             "outlinewidth": 0,
             "ticks": ""
            },
            "colorscale": [
             [
              0,
              "#0d0887"
             ],
             [
              0.1111111111111111,
              "#46039f"
             ],
             [
              0.2222222222222222,
              "#7201a8"
             ],
             [
              0.3333333333333333,
              "#9c179e"
             ],
             [
              0.4444444444444444,
              "#bd3786"
             ],
             [
              0.5555555555555556,
              "#d8576b"
             ],
             [
              0.6666666666666666,
              "#ed7953"
             ],
             [
              0.7777777777777778,
              "#fb9f3a"
             ],
             [
              0.8888888888888888,
              "#fdca26"
             ],
             [
              1,
              "#f0f921"
             ]
            ],
            "type": "histogram2dcontour"
           }
          ],
          "mesh3d": [
           {
            "colorbar": {
             "outlinewidth": 0,
             "ticks": ""
            },
            "type": "mesh3d"
           }
          ],
          "parcoords": [
           {
            "line": {
             "colorbar": {
              "outlinewidth": 0,
              "ticks": ""
             }
            },
            "type": "parcoords"
           }
          ],
          "pie": [
           {
            "automargin": true,
            "type": "pie"
           }
          ],
          "scatter": [
           {
            "fillpattern": {
             "fillmode": "overlay",
             "size": 10,
             "solidity": 0.2
            },
            "type": "scatter"
           }
          ],
          "scatter3d": [
           {
            "line": {
             "colorbar": {
              "outlinewidth": 0,
              "ticks": ""
             }
            },
            "marker": {
             "colorbar": {
              "outlinewidth": 0,
              "ticks": ""
             }
            },
            "type": "scatter3d"
           }
          ],
          "scattercarpet": [
           {
            "marker": {
             "colorbar": {
              "outlinewidth": 0,
              "ticks": ""
             }
            },
            "type": "scattercarpet"
           }
          ],
          "scattergeo": [
           {
            "marker": {
             "colorbar": {
              "outlinewidth": 0,
              "ticks": ""
             }
            },
            "type": "scattergeo"
           }
          ],
          "scattergl": [
           {
            "marker": {
             "colorbar": {
              "outlinewidth": 0,
              "ticks": ""
             }
            },
            "type": "scattergl"
           }
          ],
          "scattermap": [
           {
            "marker": {
             "colorbar": {
              "outlinewidth": 0,
              "ticks": ""
             }
            },
            "type": "scattermap"
           }
          ],
          "scattermapbox": [
           {
            "marker": {
             "colorbar": {
              "outlinewidth": 0,
              "ticks": ""
             }
            },
            "type": "scattermapbox"
           }
          ],
          "scatterpolar": [
           {
            "marker": {
             "colorbar": {
              "outlinewidth": 0,
              "ticks": ""
             }
            },
            "type": "scatterpolar"
           }
          ],
          "scatterpolargl": [
           {
            "marker": {
             "colorbar": {
              "outlinewidth": 0,
              "ticks": ""
             }
            },
            "type": "scatterpolargl"
           }
          ],
          "scatterternary": [
           {
            "marker": {
             "colorbar": {
              "outlinewidth": 0,
              "ticks": ""
             }
            },
            "type": "scatterternary"
           }
          ],
          "surface": [
           {
            "colorbar": {
             "outlinewidth": 0,
             "ticks": ""
            },
            "colorscale": [
             [
              0,
              "#0d0887"
             ],
             [
              0.1111111111111111,
              "#46039f"
             ],
             [
              0.2222222222222222,
              "#7201a8"
             ],
             [
              0.3333333333333333,
              "#9c179e"
             ],
             [
              0.4444444444444444,
              "#bd3786"
             ],
             [
              0.5555555555555556,
              "#d8576b"
             ],
             [
              0.6666666666666666,
              "#ed7953"
             ],
             [
              0.7777777777777778,
              "#fb9f3a"
             ],
             [
              0.8888888888888888,
              "#fdca26"
             ],
             [
              1,
              "#f0f921"
             ]
            ],
            "type": "surface"
           }
          ],
          "table": [
           {
            "cells": {
             "fill": {
              "color": "#EBF0F8"
             },
             "line": {
              "color": "white"
             }
            },
            "header": {
             "fill": {
              "color": "#C8D4E3"
             },
             "line": {
              "color": "white"
             }
            },
            "type": "table"
           }
          ]
         },
         "layout": {
          "annotationdefaults": {
           "arrowcolor": "#2a3f5f",
           "arrowhead": 0,
           "arrowwidth": 1
          },
          "autotypenumbers": "strict",
          "coloraxis": {
           "colorbar": {
            "outlinewidth": 0,
            "ticks": ""
           }
          },
          "colorscale": {
           "diverging": [
            [
             0,
             "#8e0152"
            ],
            [
             0.1,
             "#c51b7d"
            ],
            [
             0.2,
             "#de77ae"
            ],
            [
             0.3,
             "#f1b6da"
            ],
            [
             0.4,
             "#fde0ef"
            ],
            [
             0.5,
             "#f7f7f7"
            ],
            [
             0.6,
             "#e6f5d0"
            ],
            [
             0.7,
             "#b8e186"
            ],
            [
             0.8,
             "#7fbc41"
            ],
            [
             0.9,
             "#4d9221"
            ],
            [
             1,
             "#276419"
            ]
           ],
           "sequential": [
            [
             0,
             "#0d0887"
            ],
            [
             0.1111111111111111,
             "#46039f"
            ],
            [
             0.2222222222222222,
             "#7201a8"
            ],
            [
             0.3333333333333333,
             "#9c179e"
            ],
            [
             0.4444444444444444,
             "#bd3786"
            ],
            [
             0.5555555555555556,
             "#d8576b"
            ],
            [
             0.6666666666666666,
             "#ed7953"
            ],
            [
             0.7777777777777778,
             "#fb9f3a"
            ],
            [
             0.8888888888888888,
             "#fdca26"
            ],
            [
             1,
             "#f0f921"
            ]
           ],
           "sequentialminus": [
            [
             0,
             "#0d0887"
            ],
            [
             0.1111111111111111,
             "#46039f"
            ],
            [
             0.2222222222222222,
             "#7201a8"
            ],
            [
             0.3333333333333333,
             "#9c179e"
            ],
            [
             0.4444444444444444,
             "#bd3786"
            ],
            [
             0.5555555555555556,
             "#d8576b"
            ],
            [
             0.6666666666666666,
             "#ed7953"
            ],
            [
             0.7777777777777778,
             "#fb9f3a"
            ],
            [
             0.8888888888888888,
             "#fdca26"
            ],
            [
             1,
             "#f0f921"
            ]
           ]
          },
          "colorway": [
           "#636efa",
           "#EF553B",
           "#00cc96",
           "#ab63fa",
           "#FFA15A",
           "#19d3f3",
           "#FF6692",
           "#B6E880",
           "#FF97FF",
           "#FECB52"
          ],
          "font": {
           "color": "#2a3f5f"
          },
          "geo": {
           "bgcolor": "white",
           "lakecolor": "white",
           "landcolor": "#E5ECF6",
           "showlakes": true,
           "showland": true,
           "subunitcolor": "white"
          },
          "hoverlabel": {
           "align": "left"
          },
          "hovermode": "closest",
          "mapbox": {
           "style": "light"
          },
          "paper_bgcolor": "white",
          "plot_bgcolor": "#E5ECF6",
          "polar": {
           "angularaxis": {
            "gridcolor": "white",
            "linecolor": "white",
            "ticks": ""
           },
           "bgcolor": "#E5ECF6",
           "radialaxis": {
            "gridcolor": "white",
            "linecolor": "white",
            "ticks": ""
           }
          },
          "scene": {
           "xaxis": {
            "backgroundcolor": "#E5ECF6",
            "gridcolor": "white",
            "gridwidth": 2,
            "linecolor": "white",
            "showbackground": true,
            "ticks": "",
            "zerolinecolor": "white"
           },
           "yaxis": {
            "backgroundcolor": "#E5ECF6",
            "gridcolor": "white",
            "gridwidth": 2,
            "linecolor": "white",
            "showbackground": true,
            "ticks": "",
            "zerolinecolor": "white"
           },
           "zaxis": {
            "backgroundcolor": "#E5ECF6",
            "gridcolor": "white",
            "gridwidth": 2,
            "linecolor": "white",
            "showbackground": true,
            "ticks": "",
            "zerolinecolor": "white"
           }
          },
          "shapedefaults": {
           "line": {
            "color": "#2a3f5f"
           }
          },
          "ternary": {
           "aaxis": {
            "gridcolor": "white",
            "linecolor": "white",
            "ticks": ""
           },
           "baxis": {
            "gridcolor": "white",
            "linecolor": "white",
            "ticks": ""
           },
           "bgcolor": "#E5ECF6",
           "caxis": {
            "gridcolor": "white",
            "linecolor": "white",
            "ticks": ""
           }
          },
          "title": {
           "x": 0.05
          },
          "xaxis": {
           "automargin": true,
           "gridcolor": "white",
           "linecolor": "white",
           "ticks": "",
           "title": {
            "standoff": 15
           },
           "zerolinecolor": "white",
           "zerolinewidth": 2
          },
          "yaxis": {
           "automargin": true,
           "gridcolor": "white",
           "linecolor": "white",
           "ticks": "",
           "title": {
            "standoff": 15
           },
           "zerolinecolor": "white",
           "zerolinewidth": 2
          }
         }
        },
        "title": {
         "text": "3D Scatter Plot Example"
        }
       }
      }
     },
     "metadata": {},
     "output_type": "display_data"
    }
   ],
   "source": [
    "#13.Create a 3D scatter plot using Plotly?\n",
    "import plotly.express as px\n",
    "import pandas as pd\n",
    "data = {\n",
    "    'x': [1, 2, 3, 4, 5],\n",
    "    'y': [10, 11, 12, 13, 14],\n",
    "    'z': [5, 4, 3, 2, 1],\n",
    "    'label': ['A', 'B', 'C', 'D', 'E']\n",
    "}\n",
    "\n",
    "df = pd.DataFrame(data)\n",
    "fig = px.scatter_3d(df, x='x', y='y', z='z', color='label',\n",
    "                    title='3D Scatter Plot Example')\n",
    "fig.show()\n",
    "\n"
   ]
  },
  {
   "cell_type": "code",
   "execution_count": null,
   "id": "b417f6eb-5e36-43cd-95af-4731448d3657",
   "metadata": {},
   "outputs": [],
   "source": []
  },
  {
   "cell_type": "code",
   "execution_count": null,
   "id": "ef6d8236-c191-4ce1-b346-72b0e4f5ad1a",
   "metadata": {},
   "outputs": [],
   "source": []
  },
  {
   "cell_type": "code",
   "execution_count": null,
   "id": "1a9af8f4-ff89-4fe4-969d-24e8f7012048",
   "metadata": {},
   "outputs": [],
   "source": []
  },
  {
   "cell_type": "code",
   "execution_count": null,
   "id": "56cbea1b-407e-4b07-8f38-1103184129de",
   "metadata": {},
   "outputs": [],
   "source": []
  }
 ],
 "metadata": {
  "kernelspec": {
   "display_name": "Python 3 (ipykernel)",
   "language": "python",
   "name": "python3"
  },
  "language_info": {
   "codemirror_mode": {
    "name": "ipython",
    "version": 3
   },
   "file_extension": ".py",
   "mimetype": "text/x-python",
   "name": "python",
   "nbconvert_exporter": "python",
   "pygments_lexer": "ipython3",
   "version": "3.13.1"
  }
 },
 "nbformat": 4,
 "nbformat_minor": 5
}
